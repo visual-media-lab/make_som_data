{
 "cells": [
  {
   "cell_type": "markdown",
   "metadata": {},
   "source": [
    "# 必要なライブラリのインストール"
   ]
  },
  {
   "cell_type": "code",
   "execution_count": 1,
   "metadata": {},
   "outputs": [
    {
     "name": "stdout",
     "output_type": "stream",
     "text": [
      "Defaulting to user installation because normal site-packages is not writeable\n",
      "Requirement already satisfied: scikit-learn in /home/jj1guj/.local/lib/python3.8/site-packages (from -r requirements.txt (line 1)) (0.24.2)\n",
      "Requirement already satisfied: mojimoji in /home/jj1guj/.local/lib/python3.8/site-packages (from -r requirements.txt (line 2)) (0.0.11)\n",
      "Requirement already satisfied: pyyaml in /usr/lib/python3/dist-packages (from -r requirements.txt (line 3)) (5.3.1)\n",
      "Requirement already satisfied: numpy in /home/jj1guj/.local/lib/python3.8/site-packages (from -r requirements.txt (line 4)) (1.19.2)\n",
      "Requirement already satisfied: tqdm in /home/jj1guj/.local/lib/python3.8/site-packages (from -r requirements.txt (line 5)) (4.62.3)\n",
      "Requirement already satisfied: scipy>=0.19.1 in /home/jj1guj/.local/lib/python3.8/site-packages (from scikit-learn->-r requirements.txt (line 1)) (1.7.0)\n",
      "Requirement already satisfied: threadpoolctl>=2.0.0 in /home/jj1guj/.local/lib/python3.8/site-packages (from scikit-learn->-r requirements.txt (line 1)) (2.2.0)\n",
      "Requirement already satisfied: joblib>=0.11 in /home/jj1guj/.local/lib/python3.8/site-packages (from scikit-learn->-r requirements.txt (line 1)) (1.0.1)\n"
     ]
    }
   ],
   "source": [
    "!pip3 install -r requirements.txt"
   ]
  },
  {
   "cell_type": "markdown",
   "metadata": {},
   "source": [
    "# プログラムの実行"
   ]
  },
  {
   "cell_type": "code",
   "execution_count": 2,
   "metadata": {},
   "outputs": [
    {
     "name": "stdout",
     "output_type": "stream",
     "text": [
      "100%|███████████████████████████████████████| 9769/9769 [01:54<00:00, 85.54it/s]\n"
     ]
    }
   ],
   "source": [
    "!python3 make_som_data.py"
   ]
  }
 ],
 "metadata": {
  "interpreter": {
   "hash": "e7370f93d1d0cde622a1f8e1c04877d8463912d04d973331ad4851f04de6915a"
  },
  "kernelspec": {
   "display_name": "Python 3.8.10 64-bit",
   "name": "python3"
  },
  "language_info": {
   "codemirror_mode": {
    "name": "ipython",
    "version": 3
   },
   "file_extension": ".py",
   "mimetype": "text/x-python",
   "name": "python",
   "nbconvert_exporter": "python",
   "pygments_lexer": "ipython3",
   "version": "3.8.10"
  },
  "orig_nbformat": 4
 },
 "nbformat": 4,
 "nbformat_minor": 2
}
